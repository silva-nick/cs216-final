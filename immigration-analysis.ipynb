{
 "cells": [
  {
   "cell_type": "code",
   "execution_count": 17,
   "metadata": {},
   "outputs": [],
   "source": [
    "import pandas as pd\n",
    "import numpy as np\n",
    "import seaborn as sns\n",
    "from sklearn.linear_model import LinearRegression\n",
    "import statsmodels.api as sm"
   ]
  },
  {
   "cell_type": "code",
   "execution_count": 18,
   "metadata": {},
   "outputs": [
    {
     "data": {
      "text/html": [
       "<div>\n",
       "<style scoped>\n",
       "    .dataframe tbody tr th:only-of-type {\n",
       "        vertical-align: middle;\n",
       "    }\n",
       "\n",
       "    .dataframe tbody tr th {\n",
       "        vertical-align: top;\n",
       "    }\n",
       "\n",
       "    .dataframe thead th {\n",
       "        text-align: right;\n",
       "    }\n",
       "</style>\n",
       "<table border=\"1\" class=\"dataframe\">\n",
       "  <thead>\n",
       "    <tr style=\"text-align: right;\">\n",
       "      <th></th>\n",
       "      <th>Year</th>\n",
       "      <th>2010</th>\n",
       "      <th>2011</th>\n",
       "      <th>2012</th>\n",
       "      <th>2013</th>\n",
       "      <th>2014</th>\n",
       "      <th>2015</th>\n",
       "      <th>2016</th>\n",
       "      <th>2017</th>\n",
       "      <th>2018</th>\n",
       "      <th>2019</th>\n",
       "    </tr>\n",
       "  </thead>\n",
       "  <tbody>\n",
       "    <tr>\n",
       "      <th>0</th>\n",
       "      <td>Belgium</td>\n",
       "      <td>135281.0</td>\n",
       "      <td>147377.0</td>\n",
       "      <td>129477</td>\n",
       "      <td>120078</td>\n",
       "      <td>123158</td>\n",
       "      <td>146626</td>\n",
       "      <td>123702</td>\n",
       "      <td>126703</td>\n",
       "      <td>137860</td>\n",
       "      <td>150006</td>\n",
       "    </tr>\n",
       "    <tr>\n",
       "      <th>1</th>\n",
       "      <td>Bulgaria</td>\n",
       "      <td>NaN</td>\n",
       "      <td>NaN</td>\n",
       "      <td>14103</td>\n",
       "      <td>18570</td>\n",
       "      <td>26615</td>\n",
       "      <td>25223</td>\n",
       "      <td>21241</td>\n",
       "      <td>25597</td>\n",
       "      <td>29559</td>\n",
       "      <td>37929</td>\n",
       "    </tr>\n",
       "    <tr>\n",
       "      <th>2</th>\n",
       "      <td>Czechia</td>\n",
       "      <td>48317.0</td>\n",
       "      <td>27114.0</td>\n",
       "      <td>34337</td>\n",
       "      <td>30124</td>\n",
       "      <td>29897</td>\n",
       "      <td>29602</td>\n",
       "      <td>64083</td>\n",
       "      <td>51847</td>\n",
       "      <td>65910</td>\n",
       "      <td>105888</td>\n",
       "    </tr>\n",
       "    <tr>\n",
       "      <th>3</th>\n",
       "      <td>Denmark</td>\n",
       "      <td>52236.0</td>\n",
       "      <td>52833.0</td>\n",
       "      <td>54409</td>\n",
       "      <td>60312</td>\n",
       "      <td>68388</td>\n",
       "      <td>78492</td>\n",
       "      <td>74383</td>\n",
       "      <td>68579</td>\n",
       "      <td>64669</td>\n",
       "      <td>61384</td>\n",
       "    </tr>\n",
       "    <tr>\n",
       "      <th>4</th>\n",
       "      <td>Germany</td>\n",
       "      <td>404055.0</td>\n",
       "      <td>489422.0</td>\n",
       "      <td>592175</td>\n",
       "      <td>692713</td>\n",
       "      <td>884893</td>\n",
       "      <td>1571047</td>\n",
       "      <td>1029852</td>\n",
       "      <td>917109</td>\n",
       "      <td>893886</td>\n",
       "      <td>886341</td>\n",
       "    </tr>\n",
       "  </tbody>\n",
       "</table>\n",
       "</div>"
      ],
      "text/plain": [
       "       Year      2010      2011    2012    2013    2014     2015     2016  \\\n",
       "0   Belgium  135281.0  147377.0  129477  120078  123158   146626   123702   \n",
       "1  Bulgaria       NaN       NaN   14103   18570   26615    25223    21241   \n",
       "2   Czechia   48317.0   27114.0   34337   30124   29897    29602    64083   \n",
       "3   Denmark   52236.0   52833.0   54409   60312   68388    78492    74383   \n",
       "4   Germany  404055.0  489422.0  592175  692713  884893  1571047  1029852   \n",
       "\n",
       "     2017    2018    2019  \n",
       "0  126703  137860  150006  \n",
       "1   25597   29559   37929  \n",
       "2   51847   65910  105888  \n",
       "3   68579   64669   61384  \n",
       "4  917109  893886  886341  "
      ]
     },
     "execution_count": 18,
     "metadata": {},
     "output_type": "execute_result"
    }
   ],
   "source": [
    "imm = pd.read_csv('./immigration_raw.csv')\n",
    "imm.head()"
   ]
  },
  {
   "cell_type": "code",
   "execution_count": 19,
   "metadata": {},
   "outputs": [
    {
     "data": {
      "text/html": [
       "<div>\n",
       "<style scoped>\n",
       "    .dataframe tbody tr th:only-of-type {\n",
       "        vertical-align: middle;\n",
       "    }\n",
       "\n",
       "    .dataframe tbody tr th {\n",
       "        vertical-align: top;\n",
       "    }\n",
       "\n",
       "    .dataframe thead th {\n",
       "        text-align: right;\n",
       "    }\n",
       "</style>\n",
       "<table border=\"1\" class=\"dataframe\">\n",
       "  <thead>\n",
       "    <tr style=\"text-align: right;\">\n",
       "      <th></th>\n",
       "      <th>country</th>\n",
       "      <th>year</th>\n",
       "      <th>immigration</th>\n",
       "    </tr>\n",
       "  </thead>\n",
       "  <tbody>\n",
       "    <tr>\n",
       "      <th>0</th>\n",
       "      <td>Belgium</td>\n",
       "      <td>2010</td>\n",
       "      <td>135281.0</td>\n",
       "    </tr>\n",
       "    <tr>\n",
       "      <th>1</th>\n",
       "      <td>Bulgaria</td>\n",
       "      <td>2010</td>\n",
       "      <td>NaN</td>\n",
       "    </tr>\n",
       "    <tr>\n",
       "      <th>2</th>\n",
       "      <td>Czechia</td>\n",
       "      <td>2010</td>\n",
       "      <td>48317.0</td>\n",
       "    </tr>\n",
       "    <tr>\n",
       "      <th>3</th>\n",
       "      <td>Denmark</td>\n",
       "      <td>2010</td>\n",
       "      <td>52236.0</td>\n",
       "    </tr>\n",
       "    <tr>\n",
       "      <th>4</th>\n",
       "      <td>Germany</td>\n",
       "      <td>2010</td>\n",
       "      <td>404055.0</td>\n",
       "    </tr>\n",
       "  </tbody>\n",
       "</table>\n",
       "</div>"
      ],
      "text/plain": [
       "    country  year  immigration\n",
       "0   Belgium  2010     135281.0\n",
       "1  Bulgaria  2010          NaN\n",
       "2   Czechia  2010      48317.0\n",
       "3   Denmark  2010      52236.0\n",
       "4   Germany  2010     404055.0"
      ]
     },
     "execution_count": 19,
     "metadata": {},
     "output_type": "execute_result"
    }
   ],
   "source": [
    "imm = pd.melt(imm, id_vars='Year', value_vars=[\"20\" + str(x) for x in range(10, 20)])\n",
    "imm = imm.rename(columns={\"Year\": \"country\", \"variable\":\"year\", \"value\":\"immigration\"})\n",
    "imm.head()"
   ]
  },
  {
   "cell_type": "code",
   "execution_count": 20,
   "metadata": {},
   "outputs": [],
   "source": [
    "imm.to_csv(\"./immigration.csv\")"
   ]
  },
  {
   "cell_type": "code",
   "execution_count": 26,
   "metadata": {},
   "outputs": [
    {
     "data": {
      "text/html": [
       "<div>\n",
       "<style scoped>\n",
       "    .dataframe tbody tr th:only-of-type {\n",
       "        vertical-align: middle;\n",
       "    }\n",
       "\n",
       "    .dataframe tbody tr th {\n",
       "        vertical-align: top;\n",
       "    }\n",
       "\n",
       "    .dataframe thead th {\n",
       "        text-align: right;\n",
       "    }\n",
       "</style>\n",
       "<table border=\"1\" class=\"dataframe\">\n",
       "  <thead>\n",
       "    <tr style=\"text-align: right;\">\n",
       "      <th></th>\n",
       "      <th>country</th>\n",
       "      <th>year</th>\n",
       "      <th>immigration</th>\n",
       "      <th>neutral</th>\n",
       "      <th>home_win</th>\n",
       "      <th>away_win</th>\n",
       "      <th>games_played</th>\n",
       "      <th>goal_diff</th>\n",
       "      <th>win_rate</th>\n",
       "      <th>log_immigration</th>\n",
       "    </tr>\n",
       "  </thead>\n",
       "  <tbody>\n",
       "    <tr>\n",
       "      <th>0</th>\n",
       "      <td>Belgium</td>\n",
       "      <td>2010</td>\n",
       "      <td>135281.0</td>\n",
       "      <td>0</td>\n",
       "      <td>1</td>\n",
       "      <td>0</td>\n",
       "      <td>5</td>\n",
       "      <td>-2</td>\n",
       "      <td>0.200000</td>\n",
       "      <td>11.815109</td>\n",
       "    </tr>\n",
       "    <tr>\n",
       "      <th>2</th>\n",
       "      <td>Denmark</td>\n",
       "      <td>2010</td>\n",
       "      <td>52236.0</td>\n",
       "      <td>1</td>\n",
       "      <td>1</td>\n",
       "      <td>0</td>\n",
       "      <td>5</td>\n",
       "      <td>-3</td>\n",
       "      <td>0.200000</td>\n",
       "      <td>10.863527</td>\n",
       "    </tr>\n",
       "    <tr>\n",
       "      <th>3</th>\n",
       "      <td>Germany</td>\n",
       "      <td>2010</td>\n",
       "      <td>404055.0</td>\n",
       "      <td>1</td>\n",
       "      <td>1</td>\n",
       "      <td>2</td>\n",
       "      <td>6</td>\n",
       "      <td>6</td>\n",
       "      <td>0.500000</td>\n",
       "      <td>12.909306</td>\n",
       "    </tr>\n",
       "    <tr>\n",
       "      <th>4</th>\n",
       "      <td>Estonia</td>\n",
       "      <td>2010</td>\n",
       "      <td>2810.0</td>\n",
       "      <td>1</td>\n",
       "      <td>1</td>\n",
       "      <td>0</td>\n",
       "      <td>6</td>\n",
       "      <td>-2</td>\n",
       "      <td>0.166667</td>\n",
       "      <td>7.940940</td>\n",
       "    </tr>\n",
       "    <tr>\n",
       "      <th>5</th>\n",
       "      <td>Greece</td>\n",
       "      <td>2010</td>\n",
       "      <td>60462.0</td>\n",
       "      <td>0</td>\n",
       "      <td>1</td>\n",
       "      <td>1</td>\n",
       "      <td>3</td>\n",
       "      <td>2</td>\n",
       "      <td>0.666667</td>\n",
       "      <td>11.009770</td>\n",
       "    </tr>\n",
       "  </tbody>\n",
       "</table>\n",
       "</div>"
      ],
      "text/plain": [
       "   country  year  immigration  neutral  home_win  away_win  games_played  \\\n",
       "0  Belgium  2010     135281.0        0         1         0             5   \n",
       "2  Denmark  2010      52236.0        1         1         0             5   \n",
       "3  Germany  2010     404055.0        1         1         2             6   \n",
       "4  Estonia  2010       2810.0        1         1         0             6   \n",
       "5   Greece  2010      60462.0        0         1         1             3   \n",
       "\n",
       "   goal_diff  win_rate  log_immigration  \n",
       "0         -2  0.200000        11.815109  \n",
       "2         -3  0.200000        10.863527  \n",
       "3          6  0.500000        12.909306  \n",
       "4         -2  0.166667         7.940940  \n",
       "5          2  0.666667        11.009770  "
      ]
     },
     "execution_count": 26,
     "metadata": {},
     "output_type": "execute_result"
    },
    {
     "data": {
      "image/png": "[encoded data removed]",
      "text/plain": [
       "<Figure size 432x288 with 1 Axes>"
      ]
     },
     "metadata": {
      "needs_background": "light"
     },
     "output_type": "display_data"
    }
   ],
   "source": [
    "fb = pd.read_csv('../results_year.csv')\n",
    "imm[\"year\"] = pd.to_numeric(imm[\"year\"])\n",
    "imm_fb = pd.merge(imm, fb, on=[\"country\", \"year\"])\n",
    "imm_fb[\"log_immigration\"] = np.log(imm_fb[\"immigration\"])\n",
    "imm_fb = imm_fb.dropna()\n",
    "sns.scatterplot(data=imm_fb, x=\"log_immigration\", y=\"goal_diff\")\n",
    "imm_fb.head()"
   ]
  },
  {
   "cell_type": "code",
   "execution_count": 27,
   "metadata": {},
   "outputs": [
    {
     "data": {
      "text/plain": [
       "<AxesSubplot:xlabel='log_immigration', ylabel='goal_diff'>"
      ]
     },
     "execution_count": 27,
     "metadata": {},
     "output_type": "execute_result"
    },
    {
     "data": {
      "image/png": "[encoded data removed]",
      "text/plain": [
       "<Figure size 432x288 with 1 Axes>"
      ]
     },
     "metadata": {
      "needs_background": "light"
     },
     "output_type": "display_data"
    }
   ],
   "source": [
    "x = imm_fb[\"log_immigration\"].to_numpy().reshape((-1, 1))\n",
    "y = imm_fb[\"goal_diff\"]\n",
    "l_reg = LinearRegression().fit(x, y)\n",
    "sns.scatterplot(data=imm_fb, x=\"log_immigration\", y=\"goal_diff\")\n",
    "\n",
    "a,b = l_reg.coef_,l_reg.intercept_\n",
    "x_line = np.linspace(8.4, 15, 100)\n",
    "y_line = x_line * a + b\n",
    "sns.lineplot(x=x_line, y=y_line, palette=['r'], hue=np.ones(100))"
   ]
  },
  {
   "cell_type": "code",
   "execution_count": 28,
   "metadata": {},
   "outputs": [
    {
     "name": "stdout",
     "output_type": "stream",
     "text": [
      "                            OLS Regression Results                            \n",
      "==============================================================================\n",
      "Dep. Variable:              goal_diff   R-squared:                       0.159\n",
      "Model:                            OLS   Adj. R-squared:                  0.156\n",
      "Method:                 Least Squares   F-statistic:                     46.29\n",
      "Date:                Fri, 26 Nov 2021   Prob (F-statistic):           7.82e-11\n",
      "Time:                        22:02:25   Log-Likelihood:                -763.24\n",
      "No. Observations:                 246   AIC:                             1530.\n",
      "Df Residuals:                     244   BIC:                             1537.\n",
      "Df Model:                           1                                         \n",
      "Covariance Type:            nonrobust                                         \n",
      "==============================================================================\n",
      "                 coef    std err          t      P>|t|      [0.025      0.975]\n",
      "------------------------------------------------------------------------------\n",
      "const        -18.2977      2.712     -6.746      0.000     -23.641     -12.955\n",
      "x1             1.6813      0.247      6.804      0.000       1.195       2.168\n",
      "==============================================================================\n",
      "Omnibus:                        9.517   Durbin-Watson:                   2.078\n",
      "Prob(Omnibus):                  0.009   Jarque-Bera (JB):               12.042\n",
      "Skew:                          -0.309   Prob(JB):                      0.00243\n",
      "Kurtosis:                       3.890   Cond. No.                         87.1\n",
      "==============================================================================\n",
      "\n",
      "Notes:\n",
      "[1] Standard Errors assume that the covariance matrix of the errors is correctly specified.\n"
     ]
    }
   ],
   "source": [
    "X2 = sm.add_constant(x)\n",
    "est = sm.OLS(y, X2)\n",
    "est2 = est.fit()\n",
    "print(est2.summary())"
   ]
  }
 ],
 "metadata": {
  "interpreter": {
   "hash": "a5b7aeff42ba6761a280498ade45e749cf5f5c1a448f52619a139fff18264354"
  },
  "kernelspec": {
   "display_name": "Python 3.8.12 64-bit ('base': conda)",
   "language": "python",
   "name": "python3"
  },
  "language_info": {
   "codemirror_mode": {
    "name": "ipython",
    "version": 3
   },
   "file_extension": ".py",
   "mimetype": "text/x-python",
   "name": "python",
   "nbconvert_exporter": "python",
   "pygments_lexer": "ipython3",
   "version": "3.8.12"
  },
  "orig_nbformat": 4
 },
 "nbformat": 4,
 "nbformat_minor": 2
}
