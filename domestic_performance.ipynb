{
  "nbformat": 4,
  "nbformat_minor": 0,
  "metadata": {
    "colab": {
      "name": "Untitled0.ipynb",
      "provenance": [],
      "collapsed_sections": []
    },
    "kernelspec": {
      "name": "python3",
      "display_name": "Python 3"
    },
    "language_info": {
      "name": "python"
    }
  },
  "cells": [
    {
      "cell_type": "code",
      "metadata": {
        "id": "5scRlNw53r0W"
      },
      "source": [
        "import pandas as pd\n",
        "import numpy as np\n",
        "import matplotlib_inline\n",
        "import matplotlib.pyplot as plt"
      ],
      "execution_count": 111,
      "outputs": []
    },
    {
      "cell_type": "code",
      "metadata": {
        "id": "fUZi3kmI4uXk"
      },
      "source": [
        "results = pd.read_csv(\"/content/drive/MyDrive/football_results.csv\")"
      ],
      "execution_count": 112,
      "outputs": []
    },
    {
      "cell_type": "code",
      "metadata": {
        "id": "hUjsDYUF40D6"
      },
      "source": [
        "int_results = results[(results['level'] == 'international') & (results['home_continent']=='Europe') &(results['away_continent']=='Europe')]\n",
        "int_res = int_results.drop(['full_time','home_continent','away_continent','continent','level','home_ident','away_ident'],axis=1)\n",
        "int_res=int_res[(int_res['competition']=='UEFA EL') | (int_res['competition']=='UEFA CL')]\n",
        "int_res2018 = int_res[int_res['date'].str.startswith('2018')]"
      ],
      "execution_count": 113,
      "outputs": []
    },
    {
      "cell_type": "code",
      "metadata": {
        "id": "tUt7tdJp6Sw7"
      },
      "source": [
        "int_res['score']=int_res['gh']-int_res['ga']\n",
        "int_res.loc[int_res['score'] > 0, 'score'] = 1\n",
        "int_res.loc[int_res['score'] == 0, 'score'] = 0\n",
        "int_res.loc[int_res['score'] < 0, 'score'] = -1"
      ],
      "execution_count": 114,
      "outputs": []
    },
    {
      "cell_type": "code",
      "metadata": {
        "id": "mpBxXCekaql3"
      },
      "source": [
        "int_res.to_csv('/content/drive/MyDrive/International club competitions.csv')"
      ],
      "execution_count": 115,
      "outputs": []
    },
    {
      "cell_type": "code",
      "metadata": {
        "colab": {
          "base_uri": "https://localhost:8080/"
        },
        "id": "mtq6hhzZLQ0K",
        "outputId": "724b18ef-44e1-4e01-d4e7-cf6689a22514"
      },
      "source": [
        "int_res2018 = int_res[int_res['date'].str.startswith('2018')]\n",
        "int_res['home_country']=int_res.home_country.str.capitalize()\n",
        "int_res2018['home_country']=int_res2018.home_country.str.capitalize()\n",
        "val = int_res2018.groupby('home_country')['score'].sum().values"
      ],
      "execution_count": 116,
      "outputs": [
        {
          "output_type": "stream",
          "name": "stderr",
          "text": [
            "/usr/local/lib/python3.7/dist-packages/ipykernel_launcher.py:3: SettingWithCopyWarning: \n",
            "A value is trying to be set on a copy of a slice from a DataFrame.\n",
            "Try using .loc[row_indexer,col_indexer] = value instead\n",
            "\n",
            "See the caveats in the documentation: https://pandas.pydata.org/pandas-docs/stable/user_guide/indexing.html#returning-a-view-versus-a-copy\n",
            "  This is separate from the ipykernel package so we can avoid doing imports until\n"
          ]
        }
      ]
    },
    {
      "cell_type": "code",
      "metadata": {
        "id": "BO03-dOFIosU"
      },
      "source": [
        "rank = pd.read_csv('/content/drive/MyDrive/fifa_ranking.csv')\n",
        "rank2018 = rank[(rank['rank_date'].str.startswith('2018')) & (rank['confederation']=='UEFA')]\n",
        "avg_rank2018 = rank2018.groupby('country_full').mean()['rank']\n",
        "rankval = np.log(avg_rank2018).values\n"
      ],
      "execution_count": 117,
      "outputs": []
    },
    {
      "cell_type": "code",
      "metadata": {
        "colab": {
          "base_uri": "https://localhost:8080/",
          "height": 283
        },
        "id": "rtru2UnUQk92",
        "outputId": "95c2e369-c98e-4981-8b60-0585bba08c23"
      },
      "source": [
        "m,b = np.polyfit(val,rankval,1) \n",
        "plt.scatter(val,rankval)\n",
        "plt.plot(val, m*val + b)"
      ],
      "execution_count": 118,
      "outputs": [
        {
          "output_type": "execute_result",
          "data": {
            "text/plain": [
              "[<matplotlib.lines.Line2D at 0x7f3c5cdd8210>]"
            ]
          },
          "metadata": {},
          "execution_count": 118
        },
        {
          "output_type": "display_data",
          "data": {
            "image/png": "[encoded data removed]",
            "text/plain": [
              "<Figure size 432x288 with 1 Axes>"
            ]
          },
          "metadata": {
            "needs_background": "light"
          }
        }
      ]
    }
  ]
}