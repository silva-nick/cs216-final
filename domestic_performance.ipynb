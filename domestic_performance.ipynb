{
 "cells": [
  {
   "cell_type": "code",
   "execution_count": 1,
   "metadata": {
    "id": "5scRlNw53r0W"
   },
   "outputs": [],
   "source": [
    "import pandas as pd\n",
    "import numpy as np\n",
    "import matplotlib.pyplot as plt"
   ]
  },
  {
   "cell_type": "code",
   "execution_count": 2,
   "metadata": {
    "id": "fUZi3kmI4uXk"
   },
   "outputs": [],
   "source": [
    "results = pd.read_csv(\"football_results.csv\")"
   ]
  },
  {
   "cell_type": "code",
   "execution_count": 3,
   "metadata": {
    "id": "hUjsDYUF40D6"
   },
   "outputs": [],
   "source": [
    "int_results = results[(results['level'] == 'international') & (results['home_continent']=='Europe') &(results['away_continent']=='Europe')]\n",
    "int_res = int_results.drop(['full_time','home_continent','away_continent','continent','level','home_ident','away_ident'],axis=1)\n",
    "int_res=int_res[(int_res['competition']=='UEFA EL') | (int_res['competition']=='UEFA CL')]\n",
    "int_res2018 = int_res[int_res['date'].str.startswith('2018')]"
   ]
  },
  {
   "cell_type": "code",
   "execution_count": 4,
   "metadata": {
    "id": "tUt7tdJp6Sw7"
   },
   "outputs": [],
   "source": [
    "int_res['score']=int_res['gh']-int_res['ga']\n",
    "int_res.loc[int_res['score'] > 0, 'score'] = 1\n",
    "int_res.loc[int_res['score'] == 0, 'score'] = 0\n",
    "int_res.loc[int_res['score'] < 0, 'score'] = -1"
   ]
  },
  {
   "cell_type": "code",
   "execution_count": 5,
   "metadata": {
    "id": "mpBxXCekaql3"
   },
   "outputs": [],
   "source": [
    "int_res.to_csv('International club competitions.csv')"
   ]
  },
  {
   "cell_type": "code",
   "execution_count": 6,
   "metadata": {
    "colab": {
     "base_uri": "https://localhost:8080/"
    },
    "id": "mtq6hhzZLQ0K",
    "outputId": "724b18ef-44e1-4e01-d4e7-cf6689a22514"
   },
   "outputs": [
    {
     "name": "stderr",
     "output_type": "stream",
     "text": [
      "<ipython-input-6-6fa392353a22>:3: SettingWithCopyWarning: \n",
      "A value is trying to be set on a copy of a slice from a DataFrame.\n",
      "Try using .loc[row_indexer,col_indexer] = value instead\n",
      "\n",
      "See the caveats in the documentation: https://pandas.pydata.org/pandas-docs/stable/user_guide/indexing.html#returning-a-view-versus-a-copy\n",
      "  int_res2018['home_country']=int_res2018.home_country.str.capitalize()\n"
     ]
    }
   ],
   "source": [
    "int_res2018 = int_res[int_res['date'].str.startswith('2018')]\n",
    "int_res['home_country']=int_res.home_country.str.capitalize()\n",
    "int_res2018['home_country']=int_res2018.home_country.str.capitalize()\n",
    "val = int_res2018.groupby('home_country')['score'].sum().values"
   ]
  },
  {
   "cell_type": "code",
   "execution_count": 8,
   "metadata": {},
   "outputs": [],
   "source": [
    "val_coun = int_res2018.groupby('home_country')['score'].sum()\n",
    "val_coun = val_coun.drop('Macedonia-fyr')"
   ]
  },
  {
   "cell_type": "code",
   "execution_count": 11,
   "metadata": {
    "id": "BO03-dOFIosU"
   },
   "outputs": [],
   "source": [
    "rank = pd.read_csv('fifa_ranking.csv')\n",
    "rank2018 = rank[(rank['rank_date'].str.startswith('2018')) & (rank['confederation']=='UEFA')]\n",
    "avg_rank2018 = rank2018.groupby('country_full').mean()['rank']\n",
    "rankval = np.log(avg_rank2018.values)\n"
   ]
  },
  {
   "cell_type": "code",
   "execution_count": 12,
   "metadata": {
    "colab": {
     "base_uri": "https://localhost:8080/",
     "height": 283
    },
    "id": "rtru2UnUQk92",
    "outputId": "95c2e369-c98e-4981-8b60-0585bba08c23"
   },
   "outputs": [
    {
     "data": {
      "text/plain": [
       "Text(0, 0.5, 'log(Nation rank)')"
      ]
     },
     "execution_count": 12,
     "metadata": {},
     "output_type": "execute_result"
    },
    {
     "data": {
      "image/png": "[encoded data removed]",
      "text/plain": [
       "<Figure size 432x288 with 1 Axes>"
      ]
     },
     "metadata": {
      "needs_background": "light"
     },
     "output_type": "display_data"
    }
   ],
   "source": [
    "m,b = np.polyfit(val,rankval,1) \n",
    "plt.scatter(val,rankval)\n",
    "plt.plot(val, m*val + b)\n",
    "plt.xlabel('(wins - loses) for 2018')\n",
    "plt.ylabel(('log(Nation rank)'))"
   ]
  },
  {
   "cell_type": "code",
   "execution_count": 26,
   "metadata": {},
   "outputs": [
    {
     "data": {
      "text/plain": [
       "(55, 1)"
      ]
     },
     "execution_count": 26,
     "metadata": {},
     "output_type": "execute_result"
    }
   ],
   "source": [
    "val =val.reshape(-1, 1)\n",
    "rankval = rankval.reshape(-1, 1)\n",
    "rankval.shape"
   ]
  },
  {
   "cell_type": "code",
   "execution_count": 14,
   "metadata": {},
   "outputs": [],
   "source": [
    "from sklearn.linear_model import LinearRegression \n",
    "from sklearn.metrics import r2_score\n",
    "import statsmodels.api as sm"
   ]
  },
  {
   "cell_type": "code",
   "execution_count": 27,
   "metadata": {},
   "outputs": [
    {
     "name": "stdout",
     "output_type": "stream",
     "text": [
      "The linear model is: Y = 3.8405 + -0.052174X\n"
     ]
    }
   ],
   "source": [
    "reg = LinearRegression()\n",
    "reg.fit(X=val,y=rankval)\n",
    "print(\"The linear model is: Y = {:.5} + {:.5}X\".format(reg.intercept_[0], reg.coef_[0][0]))"
   ]
  },
  {
   "cell_type": "code",
   "execution_count": 31,
   "metadata": {},
   "outputs": [],
   "source": [
    "LinearRegression?"
   ]
  },
  {
   "cell_type": "code",
   "execution_count": 29,
   "metadata": {},
   "outputs": [],
   "source": [
    "X = val\n",
    "y = rankval"
   ]
  },
  {
   "cell_type": "code",
   "execution_count": 30,
   "metadata": {},
   "outputs": [
    {
     "name": "stdout",
     "output_type": "stream",
     "text": [
      "                            OLS Regression Results                            \n",
      "==============================================================================\n",
      "Dep. Variable:                      y   R-squared:                       0.048\n",
      "Model:                            OLS   Adj. R-squared:                  0.030\n",
      "Method:                 Least Squares   F-statistic:                     2.694\n",
      "Date:                Thu, 18 Nov 2021   Prob (F-statistic):              0.107\n",
      "Time:                        14:16:50   Log-Likelihood:                -83.393\n",
      "No. Observations:                  55   AIC:                             170.8\n",
      "Df Residuals:                      53   BIC:                             174.8\n",
      "Df Model:                           1                                         \n",
      "Covariance Type:            nonrobust                                         \n",
      "==============================================================================\n",
      "                 coef    std err          t      P>|t|      [0.025      0.975]\n",
      "------------------------------------------------------------------------------\n",
      "const          3.8405      0.171     22.513      0.000       3.498       4.183\n",
      "x1            -0.0522      0.032     -1.641      0.107      -0.116       0.012\n",
      "==============================================================================\n",
      "Omnibus:                       13.946   Durbin-Watson:                   1.958\n",
      "Prob(Omnibus):                  0.001   Jarque-Bera (JB):               15.473\n",
      "Skew:                          -1.070   Prob(JB):                     0.000437\n",
      "Kurtosis:                       4.474   Cond. No.                         6.09\n",
      "==============================================================================\n",
      "\n",
      "Warnings:\n",
      "[1] Standard Errors assume that the covariance matrix of the errors is correctly specified.\n"
     ]
    }
   ],
   "source": [
    "X2 = sm.add_constant(X)\n",
    "est = sm.OLS(y, X2)\n",
    "est2 = est.fit()\n",
    "print(est2.summary())"
   ]
  },
  {
   "cell_type": "code",
   "execution_count": 37,
   "metadata": {},
   "outputs": [],
   "source": [
    "res_year= pd.read_csv('results.csv')\n",
    "res_year[res_year['date'].str.startswith('2018')]\n",
    "res = res_year.groupby('country').count()\n",
    "europe_countries = rank2018['country_full'].unique().tolist()\n",
    "europe_countries.remove('FYR Macedonia')"
   ]
  },
  {
   "cell_type": "code",
   "execution_count": 38,
   "metadata": {},
   "outputs": [],
   "source": [
    "res_year['win']= res_year['home_score'] - res_year['away_score']\n",
    "res_year.loc[res_year['win']>0., 'win'] = 1\n",
    "res_year.loc[res_year['win']==0, 'win'] = 0\n",
    "res_year.loc[res_year['win']<0, 'win'] = -1\n",
    "res_home = res_year[res_year['home_team'].isin(europe_countries)]\n",
    "res_away = res_year[res_year['away_team'].isin(europe_countries)]"
   ]
  },
  {
   "cell_type": "code",
   "execution_count": 39,
   "metadata": {},
   "outputs": [],
   "source": [
    "home_val = res_home.groupby('home_team')['win'].sum()\n",
    "home_val.index.unique().size\n",
    "away_val = res_away.groupby('away_team')['win'].sum()"
   ]
  },
  {
   "cell_type": "code",
   "execution_count": 40,
   "metadata": {},
   "outputs": [],
   "source": [
    "perform = home_val+ away_val\n",
    "perform.drop('Republic of Ireland', inplace=True)\n",
    "perform =perform.append(pd.Series({'Ireland':95})).sort_index()\n",
    "perform_val = perform.values\n",
    "perform_val = np.log(perform_val)"
   ]
  },
  {
   "cell_type": "code",
   "execution_count": 41,
   "metadata": {},
   "outputs": [
    {
     "data": {
      "text/plain": [
       "Text(0, 0.5, 'win - loses for the Nations')"
      ]
     },
     "execution_count": 41,
     "metadata": {},
     "output_type": "execute_result"
    },
    {
     "data": {
      "image/png": "[encoded data removed]",
      "text/plain": [
       "<Figure size 432x288 with 1 Axes>"
      ]
     },
     "metadata": {
      "needs_background": "light"
     },
     "output_type": "display_data"
    }
   ],
   "source": [
    "p = np.polyfit(val_coun, perform_val, 1)\n",
    "x = np.linspace(-5, 20, 100)\n",
    "y = np.polyval(p, x)\n",
    "plt.scatter(val_coun, perform_val)\n",
    "plt.plot(x,y)\n",
    "plt.xlabel('win - loses for domestic clubs')\n",
    "plt.ylabel('win - loses for the Nations')"
   ]
  },
  {
   "cell_type": "code",
   "execution_count": 71,
   "metadata": {},
   "outputs": [],
   "source": [
    "X = np.array(val_coun.values.tolist())\n",
    "X = X.reshape(-1,1)"
   ]
  },
  {
   "cell_type": "code",
   "execution_count": 70,
   "metadata": {},
   "outputs": [],
   "source": [
    "y =perform_val.reshape(-1,1)"
   ]
  },
  {
   "cell_type": "code",
   "execution_count": 72,
   "metadata": {},
   "outputs": [
    {
     "name": "stdout",
     "output_type": "stream",
     "text": [
      "The linear model is: Y = 3.9129 + 0.074495X\n"
     ]
    }
   ],
   "source": [
    "reg = LinearRegression()\n",
    "reg.fit(X,y)\n",
    "print(\"The linear model is: Y = {:.5} + {:.5}X\".format(reg.intercept_[0], reg.coef_[0][0]))"
   ]
  },
  {
   "cell_type": "code",
   "execution_count": 73,
   "metadata": {},
   "outputs": [
    {
     "name": "stdout",
     "output_type": "stream",
     "text": [
      "                            OLS Regression Results                            \n",
      "==============================================================================\n",
      "Dep. Variable:                      y   R-squared:                       0.138\n",
      "Model:                            OLS   Adj. R-squared:                  0.121\n",
      "Method:                 Least Squares   F-statistic:                     8.313\n",
      "Date:                Thu, 18 Nov 2021   Prob (F-statistic):            0.00571\n",
      "Time:                        14:26:19   Log-Likelihood:                -70.534\n",
      "No. Observations:                  54   AIC:                             145.1\n",
      "Df Residuals:                      52   BIC:                             149.0\n",
      "Df Model:                           1                                         \n",
      "Covariance Type:            nonrobust                                         \n",
      "==============================================================================\n",
      "                 coef    std err          t      P>|t|      [0.025      0.975]\n",
      "------------------------------------------------------------------------------\n",
      "const          3.9129      0.140     27.962      0.000       3.632       4.194\n",
      "x1             0.0745      0.026      2.883      0.006       0.023       0.126\n",
      "==============================================================================\n",
      "Omnibus:                       29.927   Durbin-Watson:                   1.789\n",
      "Prob(Omnibus):                  0.000   Jarque-Bera (JB):               67.799\n",
      "Skew:                          -1.632   Prob(JB):                     1.89e-15\n",
      "Kurtosis:                       7.413   Cond. No.                         6.16\n",
      "==============================================================================\n",
      "\n",
      "Warnings:\n",
      "[1] Standard Errors assume that the covariance matrix of the errors is correctly specified.\n"
     ]
    }
   ],
   "source": [
    "X2 = sm.add_constant(X)\n",
    "est = sm.OLS(y, X2)\n",
    "est2 = est.fit()\n",
    "print(est2.summary())"
   ]
  }
 ],
 "metadata": {
  "colab": {
   "collapsed_sections": [],
   "name": "Untitled0.ipynb",
   "provenance": []
  },
  "interpreter": {
   "hash": "def5ee8351887be3f17817ac930e3b61b4d01846291f151d6c715b011be9a811"
  },
  "kernelspec": {
   "display_name": "Python 3",
   "language": "python",
   "name": "python3"
  },
  "language_info": {
   "codemirror_mode": {
    "name": "ipython",
    "version": 3
   },
   "file_extension": ".py",
   "mimetype": "text/x-python",
   "name": "python",
   "nbconvert_exporter": "python",
   "pygments_lexer": "ipython3",
   "version": "3.8.3"
  }
 },
 "nbformat": 4,
 "nbformat_minor": 1
}
