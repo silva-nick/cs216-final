{
 "cells": [
  {
   "cell_type": "code",
   "execution_count": 1,
   "metadata": {},
   "outputs": [],
   "source": [
    "import pandas as pd\n",
    "import numpy as np"
   ]
  },
  {
   "cell_type": "code",
   "execution_count": 19,
   "metadata": {},
   "outputs": [
    {
     "data": {
      "text/html": [
       "<div>\n",
       "<style scoped>\n",
       "    .dataframe tbody tr th:only-of-type {\n",
       "        vertical-align: middle;\n",
       "    }\n",
       "\n",
       "    .dataframe tbody tr th {\n",
       "        vertical-align: top;\n",
       "    }\n",
       "\n",
       "    .dataframe thead th {\n",
       "        text-align: right;\n",
       "    }\n",
       "</style>\n",
       "<table border=\"1\" class=\"dataframe\">\n",
       "  <thead>\n",
       "    <tr style=\"text-align: right;\">\n",
       "      <th></th>\n",
       "      <th>country</th>\n",
       "      <th>weekly_count</th>\n",
       "      <th>year_week</th>\n",
       "    </tr>\n",
       "  </thead>\n",
       "  <tbody>\n",
       "    <tr>\n",
       "      <th>376</th>\n",
       "      <td>Albania</td>\n",
       "      <td>2</td>\n",
       "      <td>2020-10</td>\n",
       "    </tr>\n",
       "    <tr>\n",
       "      <th>377</th>\n",
       "      <td>Albania</td>\n",
       "      <td>40</td>\n",
       "      <td>2020-11</td>\n",
       "    </tr>\n",
       "    <tr>\n",
       "      <th>378</th>\n",
       "      <td>Albania</td>\n",
       "      <td>47</td>\n",
       "      <td>2020-12</td>\n",
       "    </tr>\n",
       "    <tr>\n",
       "      <th>379</th>\n",
       "      <td>Albania</td>\n",
       "      <td>123</td>\n",
       "      <td>2020-13</td>\n",
       "    </tr>\n",
       "    <tr>\n",
       "      <th>380</th>\n",
       "      <td>Albania</td>\n",
       "      <td>149</td>\n",
       "      <td>2020-14</td>\n",
       "    </tr>\n",
       "  </tbody>\n",
       "</table>\n",
       "</div>"
      ],
      "text/plain": [
       "     country  weekly_count year_week\n",
       "376  Albania             2   2020-10\n",
       "377  Albania            40   2020-11\n",
       "378  Albania            47   2020-12\n",
       "379  Albania           123   2020-13\n",
       "380  Albania           149   2020-14"
      ]
     },
     "execution_count": 19,
     "metadata": {},
     "output_type": "execute_result"
    }
   ],
   "source": [
    "# clean and write data to csv\n",
    "cv = pd.read_csv('covid_data_raw.csv')\n",
    "cv = cv[(cv[\"continent\"]==\"Europe\") & (cv[\"indicator\"] == \"cases\")]\n",
    "cv.drop([\"population\", \"country_code\", \"source\", \"rate_14_day\", \"cumulative_count\", \"indicator\", \"continent\"], inplace=True, axis=1)"
   ]
  },
  {
   "cell_type": "code",
   "execution_count": 24,
   "metadata": {},
   "outputs": [
    {
     "name": "stdout",
     "output_type": "stream",
     "text": [
      "              country  weekly_count year_week year_month\n",
      "376           Albania             2   2020-10    2020-03\n",
      "377           Albania            40   2020-11    2020-03\n",
      "378           Albania            47   2020-12    2020-03\n",
      "379           Albania           123   2020-13    2020-04\n",
      "380           Albania           149   2020-14    2020-04\n",
      "...               ...           ...       ...        ...\n",
      "35763  United Kingdom        203470   2021-37    2021-09\n",
      "35764  United Kingdom        234484   2021-38    2021-09\n",
      "35765  United Kingdom        236450   2021-39    2021-09\n",
      "35766  United Kingdom        293089   2021-40    2021-10\n",
      "35767  United Kingdom        255396   2021-41    2021-10\n",
      "\n",
      "[5113 rows x 4 columns]\n"
     ]
    }
   ],
   "source": [
    "week_to_month = [\n",
    "    \"01\",\"01\",\"01\",\"01\",\"01\",\n",
    "    \"02\",\"02\",\"02\",\"02\",\n",
    "    \"03\",\"03\",\"03\",\"03\",\n",
    "    \"04\",\"04\",\"04\",\"04\",\"04\",\n",
    "    \"05\",\"05\",\"05\",\"05\",\n",
    "    \"06\",\"06\",\"06\",\"06\",\"06\",\n",
    "    \"07\",\"07\",\"07\",\"07\",\n",
    "    \"08\",\"08\",\"08\",\"08\",\"08\",\n",
    "    \"09\",\"09\",\"09\",\"09\",\n",
    "    \"10\",\"10\",\"10\",\"10\",\"10\",\n",
    "    \"11\",\"11\",\"11\",\"11\",\n",
    "    \"12\",\"12\",\"12\",\"12\",\"12\"]\n",
    "\n",
    "cv[\"year_month\"] = cv[\"year_week\"].apply(lambda x: x[:5] + week_to_month[int(x[5:])])"
   ]
  },
  {
   "cell_type": "code",
   "execution_count": 25,
   "metadata": {},
   "outputs": [
    {
     "data": {
      "text/html": [
       "<div>\n",
       "<style scoped>\n",
       "    .dataframe tbody tr th:only-of-type {\n",
       "        vertical-align: middle;\n",
       "    }\n",
       "\n",
       "    .dataframe tbody tr th {\n",
       "        vertical-align: top;\n",
       "    }\n",
       "\n",
       "    .dataframe thead th {\n",
       "        text-align: right;\n",
       "    }\n",
       "</style>\n",
       "<table border=\"1\" class=\"dataframe\">\n",
       "  <thead>\n",
       "    <tr style=\"text-align: right;\">\n",
       "      <th></th>\n",
       "      <th>country</th>\n",
       "      <th>weekly_count</th>\n",
       "      <th>year_week</th>\n",
       "      <th>year_month</th>\n",
       "    </tr>\n",
       "  </thead>\n",
       "  <tbody>\n",
       "    <tr>\n",
       "      <th>376</th>\n",
       "      <td>Albania</td>\n",
       "      <td>2</td>\n",
       "      <td>2020-10</td>\n",
       "      <td>2020-03</td>\n",
       "    </tr>\n",
       "    <tr>\n",
       "      <th>377</th>\n",
       "      <td>Albania</td>\n",
       "      <td>40</td>\n",
       "      <td>2020-11</td>\n",
       "      <td>2020-03</td>\n",
       "    </tr>\n",
       "    <tr>\n",
       "      <th>378</th>\n",
       "      <td>Albania</td>\n",
       "      <td>47</td>\n",
       "      <td>2020-12</td>\n",
       "      <td>2020-03</td>\n",
       "    </tr>\n",
       "    <tr>\n",
       "      <th>379</th>\n",
       "      <td>Albania</td>\n",
       "      <td>123</td>\n",
       "      <td>2020-13</td>\n",
       "      <td>2020-04</td>\n",
       "    </tr>\n",
       "    <tr>\n",
       "      <th>380</th>\n",
       "      <td>Albania</td>\n",
       "      <td>149</td>\n",
       "      <td>2020-14</td>\n",
       "      <td>2020-04</td>\n",
       "    </tr>\n",
       "  </tbody>\n",
       "</table>\n",
       "</div>"
      ],
      "text/plain": [
       "     country  weekly_count year_week year_month\n",
       "376  Albania             2   2020-10    2020-03\n",
       "377  Albania            40   2020-11    2020-03\n",
       "378  Albania            47   2020-12    2020-03\n",
       "379  Albania           123   2020-13    2020-04\n",
       "380  Albania           149   2020-14    2020-04"
      ]
     },
     "execution_count": 25,
     "metadata": {},
     "output_type": "execute_result"
    }
   ],
   "source": [
    "cv.to_csv(\"covid_data.csv\", index=False)\n",
    "cv.head()"
   ]
  },
  {
   "cell_type": "code",
   "execution_count": 36,
   "metadata": {},
   "outputs": [
    {
     "data": {
      "text/html": [
       "<div>\n",
       "<style scoped>\n",
       "    .dataframe tbody tr th:only-of-type {\n",
       "        vertical-align: middle;\n",
       "    }\n",
       "\n",
       "    .dataframe tbody tr th {\n",
       "        vertical-align: top;\n",
       "    }\n",
       "\n",
       "    .dataframe thead th {\n",
       "        text-align: right;\n",
       "    }\n",
       "</style>\n",
       "<table border=\"1\" class=\"dataframe\">\n",
       "  <thead>\n",
       "    <tr style=\"text-align: right;\">\n",
       "      <th></th>\n",
       "      <th>country</th>\n",
       "      <th>year_month</th>\n",
       "      <th>monthly_count</th>\n",
       "    </tr>\n",
       "  </thead>\n",
       "  <tbody>\n",
       "    <tr>\n",
       "      <th>0</th>\n",
       "      <td>Albania</td>\n",
       "      <td>2020-03</td>\n",
       "      <td>89</td>\n",
       "    </tr>\n",
       "    <tr>\n",
       "      <th>1</th>\n",
       "      <td>Albania</td>\n",
       "      <td>2020-04</td>\n",
       "      <td>637</td>\n",
       "    </tr>\n",
       "    <tr>\n",
       "      <th>2</th>\n",
       "      <td>Albania</td>\n",
       "      <td>2020-05</td>\n",
       "      <td>272</td>\n",
       "    </tr>\n",
       "    <tr>\n",
       "      <th>3</th>\n",
       "      <td>Albania</td>\n",
       "      <td>2020-06</td>\n",
       "      <td>1404</td>\n",
       "    </tr>\n",
       "    <tr>\n",
       "      <th>4</th>\n",
       "      <td>Albania</td>\n",
       "      <td>2020-07</td>\n",
       "      <td>2361</td>\n",
       "    </tr>\n",
       "  </tbody>\n",
       "</table>\n",
       "</div>"
      ],
      "text/plain": [
       "   country year_month  monthly_count\n",
       "0  Albania    2020-03             89\n",
       "1  Albania    2020-04            637\n",
       "2  Albania    2020-05            272\n",
       "3  Albania    2020-06           1404\n",
       "4  Albania    2020-07           2361"
      ]
     },
     "execution_count": 36,
     "metadata": {},
     "output_type": "execute_result"
    }
   ],
   "source": [
    "gby = cv.groupby([\"country\", \"year_month\"]).sum().add_suffix('').reset_index()\n",
    "gby.columns = [\"country\", \"year_month\", \"month_count\"]\n",
    "gby.to_csv(\"covid_data_month.csv\", index=False)\n",
    "gby.head()"
   ]
  },
  {
   "cell_type": "code",
   "execution_count": 39,
   "metadata": {},
   "outputs": [
    {
     "data": {
      "text/plain": [
       "<AxesSubplot:xlabel='year_month'>"
      ]
     },
     "execution_count": 39,
     "metadata": {},
     "output_type": "execute_result"
    },
    {
     "data": {
      "image/png": "[encoded data removed]",
      "text/plain": [
       "<Figure size 432x288 with 1 Axes>"
      ]
     },
     "metadata": {
      "needs_background": "light"
     },
     "output_type": "display_data"
    }
   ],
   "source": [
    "gby[gby[\"country\"]==\"Albania\"].plot(x=\"year_month\", y=\"monthly_count\", kind=\"line\")"
   ]
  }
 ],
 "metadata": {
  "interpreter": {
   "hash": "a5b7aeff42ba6761a280498ade45e749cf5f5c1a448f52619a139fff18264354"
  },
  "kernelspec": {
   "display_name": "Python 3.8.10 64-bit ('base': conda)",
   "name": "python3"
  },
  "language_info": {
   "codemirror_mode": {
    "name": "ipython",
    "version": 3
   },
   "file_extension": ".py",
   "mimetype": "text/x-python",
   "name": "python",
   "nbconvert_exporter": "python",
   "pygments_lexer": "ipython3",
   "version": "3.8.12"
  },
  "orig_nbformat": 4
 },
 "nbformat": 4,
 "nbformat_minor": 2
}
