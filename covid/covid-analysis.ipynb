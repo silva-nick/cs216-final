{
 "cells": [
  {
   "cell_type": "code",
   "execution_count": null,
   "metadata": {},
   "outputs": [],
   "source": [
    "import pandas as pd\n",
    "import numpy as np"
   ]
  },
  {
   "cell_type": "code",
   "execution_count": 31,
   "metadata": {},
   "outputs": [],
   "source": [
    "# clean and write data to csv\n",
    "cv = pd.read_csv('covid_data_raw.csv')\n",
    "cv=cv[(cv[\"continent\"]==\"Europe\") & (cv[\"indicator\"] == \"cases\")]\n",
    "cv.drop([\"population\", \"country_code\", \"source\", \"rate_14_day\", \"cumulative_count\", \"indicator\", \"continent\"], inplace=True, axis=1)\n",
    "cv.to_csv(\"covid_data.csv\", index=False)\n",
    "cv.head()"
   ]
  }
 ],
 "metadata": {
  "interpreter": {
   "hash": "a5b7aeff42ba6761a280498ade45e749cf5f5c1a448f52619a139fff18264354"
  },
  "kernelspec": {
   "display_name": "Python 3.8.10 64-bit ('base': conda)",
   "name": "python3"
  },
  "language_info": {
   "codemirror_mode": {
    "name": "ipython",
    "version": 3
   },
   "file_extension": ".py",
   "mimetype": "text/x-python",
   "name": "python",
   "nbconvert_exporter": "python",
   "pygments_lexer": "ipython3",
   "version": "3.8.10"
  },
  "orig_nbformat": 4
 },
 "nbformat": 4,
 "nbformat_minor": 2
}
