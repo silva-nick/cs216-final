{
 "cells": [
  {
   "cell_type": "code",
   "execution_count": 1,
   "metadata": {},
   "outputs": [],
   "source": [
    "import pandas as pd\n",
    "import numpy as np\n",
    "import seaborn as sns\n",
    "import sklearn as sk\n",
    "from sklearn.linear_model import LinearRegression\n",
    "from sklearn.metrics import r2_score\n",
    "import statsmodels.api as sm"
   ]
  },
  {
   "cell_type": "code",
   "execution_count": 7,
   "metadata": {},
   "outputs": [],
   "source": [
    "iso2_to_country = {\n",
    "    \"BE\":\"Belgium\",\n",
    "    \"BG\":\"Bulgaria\",\n",
    "    \"CZ\":\"Czechia\",\n",
    "    \"DK\":\"Denmark\",\n",
    "    \"DE\":\"Germany\",\n",
    "    \"EE\":\"Estonia\",\n",
    "    \"IE\":\"Ireland\",\n",
    "    \"EL\":\"Greece\",\n",
    "    \"ES\":\"Spain\",\n",
    "    \"FR\":\"France\",\n",
    "    \"HR\":\"Croatia\",\n",
    "    \"IT\":\"Italy\",\n",
    "    \"CY\":\"Cyprus\",\n",
    "    \"LV\":\"Latvia\",\n",
    "    \"LT\":\"Lithuania\",\n",
    "    \"LU\":\"Luxembourg\",\n",
    "    \"HU\":\"Hungary\",\n",
    "    \"MT\":\"Malta\",\n",
    "    \"NL\":\"Netherlands\",\n",
    "    \"AT\":\"Austria\",\n",
    "    \"PL\":\"Poland\",\n",
    "    \"PT\":\"Portugal\",\n",
    "    \"RO\":\"Romania\",\n",
    "    \"SI\":\"Slovenia\",\n",
    "    \"SK\":\"Slovakia\",\n",
    "    \"FI\":\"Finland\",\n",
    "    \"SE\":\"Sweden\"\n",
    "}\n",
    "iso2 = list(iso2_to_country.keys())"
   ]
  },
  {
   "cell_type": "code",
   "execution_count": 8,
   "metadata": {},
   "outputs": [
    {
     "data": {
      "text/html": [
       "<div>\n",
       "<style scoped>\n",
       "    .dataframe tbody tr th:only-of-type {\n",
       "        vertical-align: middle;\n",
       "    }\n",
       "\n",
       "    .dataframe tbody tr th {\n",
       "        vertical-align: top;\n",
       "    }\n",
       "\n",
       "    .dataframe thead th {\n",
       "        text-align: right;\n",
       "    }\n",
       "</style>\n",
       "<table border=\"1\" class=\"dataframe\">\n",
       "  <thead>\n",
       "    <tr style=\"text-align: right;\">\n",
       "      <th></th>\n",
       "      <th>country</th>\n",
       "      <th>year</th>\n",
       "      <th>employed</th>\n",
       "    </tr>\n",
       "  </thead>\n",
       "  <tbody>\n",
       "    <tr>\n",
       "      <th>0</th>\n",
       "      <td>Austria</td>\n",
       "      <td>2011</td>\n",
       "      <td>251000</td>\n",
       "    </tr>\n",
       "    <tr>\n",
       "      <th>1</th>\n",
       "      <td>Austria</td>\n",
       "      <td>2012</td>\n",
       "      <td>240000</td>\n",
       "    </tr>\n",
       "    <tr>\n",
       "      <th>2</th>\n",
       "      <td>Austria</td>\n",
       "      <td>2013</td>\n",
       "      <td>258000</td>\n",
       "    </tr>\n",
       "    <tr>\n",
       "      <th>3</th>\n",
       "      <td>Austria</td>\n",
       "      <td>2014</td>\n",
       "      <td>278000</td>\n",
       "    </tr>\n",
       "    <tr>\n",
       "      <th>4</th>\n",
       "      <td>Austria</td>\n",
       "      <td>2015</td>\n",
       "      <td>359000</td>\n",
       "    </tr>\n",
       "  </tbody>\n",
       "</table>\n",
       "</div>"
      ],
      "text/plain": [
       "   country  year  employed\n",
       "0  Austria  2011    251000\n",
       "1  Austria  2012    240000\n",
       "2  Austria  2013    258000\n",
       "3  Austria  2014    278000\n",
       "4  Austria  2015    359000"
      ]
     },
     "execution_count": 8,
     "metadata": {},
     "output_type": "execute_result"
    }
   ],
   "source": [
    "# clean and write data to csv\n",
    "sj = pd.read_csv('sport_jobs_raw.csv')\n",
    "sj.drop([\"DATAFLOW\",\"LAST UPDATE\",\"freq\",\"sex\",\"unit\",\"OBS_FLAG\"], inplace=True, axis=1)\n",
    "sj = sj[sj[\"geo\"].isin(iso2)]\n",
    "sj[\"geo\"] = sj[\"geo\"].apply(lambda x: iso2_to_country[x])\n",
    "sj.rename(columns={'geo':\"country\", 'TIME_PERIOD':\"year\", \"OBS_VALUE\":\"employed\"}, inplace=True)\n",
    "sj[\"employed\"] = sj[\"employed\"].apply(lambda x: int(x*10000))\n",
    "sj.reset_index()\n",
    "sj.head()"
   ]
  },
  {
   "cell_type": "code",
   "execution_count": 9,
   "metadata": {},
   "outputs": [],
   "source": [
    "sj.to_csv(\"sports_jobs.csv\", index=False)"
   ]
  },
  {
   "cell_type": "code",
   "execution_count": 10,
   "metadata": {},
   "outputs": [
    {
     "data": {
      "text/html": [
       "<div>\n",
       "<style scoped>\n",
       "    .dataframe tbody tr th:only-of-type {\n",
       "        vertical-align: middle;\n",
       "    }\n",
       "\n",
       "    .dataframe tbody tr th {\n",
       "        vertical-align: top;\n",
       "    }\n",
       "\n",
       "    .dataframe thead th {\n",
       "        text-align: right;\n",
       "    }\n",
       "</style>\n",
       "<table border=\"1\" class=\"dataframe\">\n",
       "  <thead>\n",
       "    <tr style=\"text-align: right;\">\n",
       "      <th></th>\n",
       "      <th>country</th>\n",
       "      <th>year</th>\n",
       "      <th>employed</th>\n",
       "      <th>neutral</th>\n",
       "      <th>home_win</th>\n",
       "      <th>away_win</th>\n",
       "      <th>games_played</th>\n",
       "      <th>goal_diff</th>\n",
       "      <th>win_rate</th>\n",
       "      <th>log_employed</th>\n",
       "    </tr>\n",
       "  </thead>\n",
       "  <tbody>\n",
       "    <tr>\n",
       "      <th>0</th>\n",
       "      <td>Austria</td>\n",
       "      <td>2011</td>\n",
       "      <td>251000</td>\n",
       "      <td>0</td>\n",
       "      <td>1</td>\n",
       "      <td>0</td>\n",
       "      <td>6</td>\n",
       "      <td>-8</td>\n",
       "      <td>0.166667</td>\n",
       "      <td>12.433208</td>\n",
       "    </tr>\n",
       "    <tr>\n",
       "      <th>1</th>\n",
       "      <td>Austria</td>\n",
       "      <td>2012</td>\n",
       "      <td>240000</td>\n",
       "      <td>0</td>\n",
       "      <td>1</td>\n",
       "      <td>0</td>\n",
       "      <td>3</td>\n",
       "      <td>1</td>\n",
       "      <td>0.333333</td>\n",
       "      <td>12.388394</td>\n",
       "    </tr>\n",
       "    <tr>\n",
       "      <th>2</th>\n",
       "      <td>Austria</td>\n",
       "      <td>2013</td>\n",
       "      <td>258000</td>\n",
       "      <td>0</td>\n",
       "      <td>1</td>\n",
       "      <td>0</td>\n",
       "      <td>4</td>\n",
       "      <td>-5</td>\n",
       "      <td>0.250000</td>\n",
       "      <td>12.460715</td>\n",
       "    </tr>\n",
       "    <tr>\n",
       "      <th>3</th>\n",
       "      <td>Austria</td>\n",
       "      <td>2014</td>\n",
       "      <td>278000</td>\n",
       "      <td>0</td>\n",
       "      <td>0</td>\n",
       "      <td>0</td>\n",
       "      <td>1</td>\n",
       "      <td>0</td>\n",
       "      <td>0.000000</td>\n",
       "      <td>12.535376</td>\n",
       "    </tr>\n",
       "    <tr>\n",
       "      <th>4</th>\n",
       "      <td>Austria</td>\n",
       "      <td>2015</td>\n",
       "      <td>359000</td>\n",
       "      <td>0</td>\n",
       "      <td>0</td>\n",
       "      <td>1</td>\n",
       "      <td>1</td>\n",
       "      <td>3</td>\n",
       "      <td>1.000000</td>\n",
       "      <td>12.791078</td>\n",
       "    </tr>\n",
       "  </tbody>\n",
       "</table>\n",
       "</div>"
      ],
      "text/plain": [
       "   country  year  employed  neutral  home_win  away_win  games_played  \\\n",
       "0  Austria  2011    251000        0         1         0             6   \n",
       "1  Austria  2012    240000        0         1         0             3   \n",
       "2  Austria  2013    258000        0         1         0             4   \n",
       "3  Austria  2014    278000        0         0         0             1   \n",
       "4  Austria  2015    359000        0         0         1             1   \n",
       "\n",
       "   goal_diff  win_rate  log_employed  \n",
       "0         -8  0.166667     12.433208  \n",
       "1          1  0.333333     12.388394  \n",
       "2         -5  0.250000     12.460715  \n",
       "3          0  0.000000     12.535376  \n",
       "4          3  1.000000     12.791078  "
      ]
     },
     "execution_count": 10,
     "metadata": {},
     "output_type": "execute_result"
    },
    {
     "data": {
      "image/png": "[encoded data removed]",
      "text/plain": [
       "<Figure size 432x288 with 1 Axes>"
      ]
     },
     "metadata": {
      "needs_background": "light"
     },
     "output_type": "display_data"
    }
   ],
   "source": [
    "fb = pd.read_csv('../results_year.csv')\n",
    "sj_fb = pd.merge(sj, fb, on=[\"country\", \"year\"])\n",
    "sj_fb[\"log_employed\"] = np.log(sj_fb[\"employed\"])\n",
    "sns.scatterplot(data=sj_fb, x=\"log_employed\", y=\"goal_diff\")\n",
    "sj_fb.head()"
   ]
  },
  {
   "cell_type": "code",
   "execution_count": 11,
   "metadata": {},
   "outputs": [
    {
     "data": {
      "text/plain": [
       "<AxesSubplot:xlabel='log_employed', ylabel='goal_diff'>"
      ]
     },
     "execution_count": 11,
     "metadata": {},
     "output_type": "execute_result"
    },
    {
     "data": {
      "image/png": "[encoded data removed]",
      "text/plain": [
       "<Figure size 432x288 with 1 Axes>"
      ]
     },
     "metadata": {
      "needs_background": "light"
     },
     "output_type": "display_data"
    }
   ],
   "source": [
    "x = sj_fb[\"log_employed\"].to_numpy().reshape((-1, 1))\n",
    "y = sj_fb[\"goal_diff\"]\n",
    "l_reg = LinearRegression().fit(x, y)\n",
    "sns.scatterplot(data=sj_fb, x=\"log_employed\", y=\"goal_diff\")\n",
    "\n",
    "a,b = l_reg.coef_,l_reg.intercept_\n",
    "x_line = np.linspace(8.4, 15, 100)\n",
    "y_line = x_line * a + b\n",
    "sns.lineplot(x=x_line, y=y_line, palette=['r'], hue=np.ones(100))"
   ]
  },
  {
   "cell_type": "code",
   "execution_count": 12,
   "metadata": {},
   "outputs": [
    {
     "name": "stdout",
     "output_type": "stream",
     "text": [
      "                            OLS Regression Results                            \n",
      "==============================================================================\n",
      "Dep. Variable:              goal_diff   R-squared:                       0.248\n",
      "Model:                            OLS   Adj. R-squared:                  0.245\n",
      "Method:                 Least Squares   F-statistic:                     80.68\n",
      "Date:                Wed, 17 Nov 2021   Prob (F-statistic):           7.41e-17\n",
      "Time:                        15:10:38   Log-Likelihood:                -748.49\n",
      "No. Observations:                 246   AIC:                             1501.\n",
      "Df Residuals:                     244   BIC:                             1508.\n",
      "Df Model:                           1                                         \n",
      "Covariance Type:            nonrobust                                         \n",
      "==============================================================================\n",
      "                 coef    std err          t      P>|t|      [0.025      0.975]\n",
      "------------------------------------------------------------------------------\n",
      "const        -24.2039      2.714     -8.917      0.000     -29.550     -18.858\n",
      "x1             1.9963      0.222      8.982      0.000       1.558       2.434\n",
      "==============================================================================\n",
      "Omnibus:                       11.956   Durbin-Watson:                   1.963\n",
      "Prob(Omnibus):                  0.003   Jarque-Bera (JB):               14.500\n",
      "Skew:                          -0.401   Prob(JB):                     0.000710\n",
      "Kurtosis:                       3.878   Cond. No.                         103.\n",
      "==============================================================================\n",
      "\n",
      "Notes:\n",
      "[1] Standard Errors assume that the covariance matrix of the errors is correctly specified.\n"
     ]
    }
   ],
   "source": [
    "X2 = sm.add_constant(x)\n",
    "est = sm.OLS(y, X2)\n",
    "est2 = est.fit()\n",
    "print(est2.summary())"
   ]
  }
 ],
 "metadata": {
  "interpreter": {
   "hash": "a5b7aeff42ba6761a280498ade45e749cf5f5c1a448f52619a139fff18264354"
  },
  "kernelspec": {
   "display_name": "Python 3.8.12 64-bit ('base': conda)",
   "name": "python3"
  },
  "language_info": {
   "codemirror_mode": {
    "name": "ipython",
    "version": 3
   },
   "file_extension": ".py",
   "mimetype": "text/x-python",
   "name": "python",
   "nbconvert_exporter": "python",
   "pygments_lexer": "ipython3",
   "version": "3.8.12"
  },
  "orig_nbformat": 4
 },
 "nbformat": 4,
 "nbformat_minor": 2
}
